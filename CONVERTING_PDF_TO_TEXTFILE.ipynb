{
  "nbformat": 4,
  "nbformat_minor": 0,
  "metadata": {
    "colab": {
      "provenance": [],
      "mount_file_id": "1TARD1B76GRPRtB7Kb0LvXtpyQooXmv-O",
      "authorship_tag": "ABX9TyMlWib8VdC1LeBJ2X0THrQE",
      "include_colab_link": true
    },
    "kernelspec": {
      "name": "python3",
      "display_name": "Python 3"
    },
    "language_info": {
      "name": "python"
    }
  },
  "cells": [
    {
      "cell_type": "markdown",
      "metadata": {
        "id": "view-in-github",
        "colab_type": "text"
      },
      "source": [
        "<a href=\"https://colab.research.google.com/github/Rajkumar136/PDF-TO-TEXT-EDUTEC/blob/main/CONVERTING_PDF_TO_TEXTFILE.ipynb\" target=\"_parent\"><img src=\"https://colab.research.google.com/assets/colab-badge.svg\" alt=\"Open In Colab\"/></a>"
      ]
    },
    {
      "cell_type": "code",
      "source": [
        "pip install PyPDF2"
      ],
      "metadata": {
        "colab": {
          "base_uri": "https://localhost:8080/"
        },
        "id": "Lty94jQe8n72",
        "outputId": "db89956a-e49a-4941-8675-0436d7864711"
      },
      "execution_count": 6,
      "outputs": [
        {
          "output_type": "stream",
          "name": "stdout",
          "text": [
            "Requirement already satisfied: PyPDF2 in /usr/local/lib/python3.10/dist-packages (3.0.1)\n"
          ]
        }
      ]
    },
    {
      "cell_type": "markdown",
      "source": [
        "CONVERTING A PDF FILE(MATHS BOOKS) INTO TEXT"
      ],
      "metadata": {
        "id": "PoCOjlQ0_DhJ"
      }
    },
    {
      "cell_type": "code",
      "source": [
        "from PyPDF2 import PdfReader\n",
        "\n",
        "pdf_file = open('/content/drive/MyDrive/doubtnut/BOOKS/7 maths em 2020-21.pdf', 'rb')\n",
        "\n",
        "pdf_reader = PdfReader(pdf_file)\n",
        "\n",
        "text = ''\n",
        "for page in pdf_reader.pages:\n",
        "    text += page.extract_text()\n",
        "\n",
        "pdf_file.close()\n",
        "with open('output.txt', 'w', encoding='utf-8') as txt_file:\n",
        "    txt_file.write(text)\n"
      ],
      "metadata": {
        "id": "molpzgDN9gL0"
      },
      "execution_count": 7,
      "outputs": []
    },
    {
      "cell_type": "markdown",
      "source": [
        "CONVERTING A MULTIPLE  PDF FILE(MATHS BOOKS) INTO TEXT"
      ],
      "metadata": {
        "id": "XeCB80wl_Uj2"
      }
    },
    {
      "cell_type": "markdown",
      "source": [],
      "metadata": {
        "id": "yyTzpKV2-tCW"
      }
    },
    {
      "cell_type": "code",
      "source": [
        "from PyPDF2 import PdfReader\n",
        "pdf_files = ['file1.pdf', 'file2.pdf', 'file3.pdf']\n",
        "text = ''\n",
        "\n",
        "for pdf_file in pdf_files:\n",
        "    with open(pdf_file, 'rb') as pdf_file:\n",
        "        pdf_reader = PdfReader(pdf_file)\n",
        "        for page in pdf_reader.pages:\n",
        "            text += page.extract_text()\n",
        "with open('output.txt', 'a', encoding='utf-8') as txt_file:\n",
        "    txt_file.write(text)\n"
      ],
      "metadata": {
        "id": "9MvbQPUA-tgC"
      },
      "execution_count": null,
      "outputs": []
    }
  ]
}